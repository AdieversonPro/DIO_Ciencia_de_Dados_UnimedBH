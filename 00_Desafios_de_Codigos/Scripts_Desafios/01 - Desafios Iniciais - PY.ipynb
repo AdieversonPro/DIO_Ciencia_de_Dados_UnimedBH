{
 "cells": [
  {
   "cell_type": "markdown",
   "id": "6858d39b",
   "metadata": {},
   "source": [
    "### Desafio 01 - As Duas Torres<br><p style=\"font-size:28px\">&#9989;</p>"
   ]
  },
  {
   "cell_type": "code",
   "execution_count": 2,
   "id": "ac7accca",
   "metadata": {},
   "outputs": [
    {
     "name": "stdout",
     "output_type": "stream",
     "text": [
      "100 5 8\n",
      "7.69\n"
     ]
    }
   ],
   "source": [
    "entrada = input().split()\n",
    "\n",
    "distancia = int(entrada[0])\n",
    "diametro1 = int(entrada[1])\n",
    "diametro2 = int(entrada[2])\n",
    "soma_dia = float(diametro1 + diametro2)\n",
    "while distancia < 10000 and diametro2 < 100 and soma_dia < distancia:\n",
    "    print (f'{distancia/soma_dia:.2f}')\n",
    "    break"
   ]
  },
  {
   "cell_type": "markdown",
   "id": "123708d4",
   "metadata": {},
   "source": [
    "### Desafio 02 - Cachorros-Quentes<br><p style=\"font-size:28px\">&#9989;</p>"
   ]
  },
  {
   "cell_type": "code",
   "execution_count": 3,
   "id": "a203e866",
   "metadata": {},
   "outputs": [
    {
     "name": "stdout",
     "output_type": "stream",
     "text": [
      "10 25\n",
      "0.40\n"
     ]
    }
   ],
   "source": [
    "valores = input().split() \n",
    "\n",
    "cachorros_quentes = int(valores[0])\n",
    "participantes = int(valores[1])\n",
    "\n",
    "while cachorros_quentes >= 1 and participantes <=1000:\n",
    "  print(f'{cachorros_quentes/participantes:.2f}')\n",
    "  break"
   ]
  },
  {
   "cell_type": "markdown",
   "id": "dafdc7fb",
   "metadata": {},
   "source": [
    "### Desafio 03 - Calculo de Viagem<br><p style=\"font-size:28px\">&#9989;</p>"
   ]
  },
  {
   "cell_type": "code",
   "execution_count": 5,
   "id": "f876d0e3",
   "metadata": {},
   "outputs": [
    {
     "name": "stdout",
     "output_type": "stream",
     "text": [
      "125 69\n",
      "718.750\n"
     ]
    }
   ],
   "source": [
    "valores = input().split()\n",
    "\n",
    "tempo = int(valores[0])\n",
    "velocidade = int(valores[1])\n",
    "distancia = float(velocidade*tempo)\n",
    "print(f'{distancia/12:.3f}')"
   ]
  }
 ],
 "metadata": {
  "kernelspec": {
   "display_name": "Python 3 (ipykernel)",
   "language": "python",
   "name": "python3"
  },
  "language_info": {
   "codemirror_mode": {
    "name": "ipython",
    "version": 3
   },
   "file_extension": ".py",
   "mimetype": "text/x-python",
   "name": "python",
   "nbconvert_exporter": "python",
   "pygments_lexer": "ipython3",
   "version": "3.9.12"
  }
 },
 "nbformat": 4,
 "nbformat_minor": 5
}
