{
 "cells": [
  {
   "cell_type": "markdown",
   "id": "afab7156",
   "metadata": {},
   "source": [
    "### Desafio 01 - Alfabeto<br><p style=\"font-size:28px\">&#9989;</p>"
   ]
  },
  {
   "cell_type": "code",
   "execution_count": null,
   "id": "b6308e8d",
   "metadata": {},
   "outputs": [],
   "source": [
    "letra = input().upper()\n",
    "  \n",
    "def positions(letra):\n",
    "    for i in letra:\n",
    "        print((ord(i) & 27), end =\" \")\n",
    "\n",
    "positions(letra)"
   ]
  },
  {
   "cell_type": "markdown",
   "id": "ca0efb9b",
   "metadata": {},
   "source": [
    "### Desafio 02 - Papagaio Poliglota<br><p style=\"font-size:28px\">&#9989;</p>"
   ]
  },
  {
   "cell_type": "code",
   "execution_count": 48,
   "id": "77de138f",
   "metadata": {},
   "outputs": [
    {
     "name": "stdout",
     "output_type": "stream",
     "text": [
      "esquerda direita nenhuma ambas\n",
      "ingles\n",
      "frances\n",
      "portugues\n",
      "caiu\n"
     ]
    }
   ],
   "source": [
    "while True:\n",
    "    try:\n",
    "        posicao_perna = input().split()\n",
    "        if posicao_perna[0] == \"esquerda\":\n",
    "            print(\"ingles\")\n",
    "        if posicao_perna[1] == \"direita\":\n",
    "            print(\"frances\")\n",
    "        if posicao_perna[2] == \"nenhuma\":\n",
    "            print(\"portugues\")\n",
    "        if posicao_perna[3] == \"ambas\":\n",
    "            print(\"caiu\")\n",
    "    except EOFError:\n",
    "        break"
   ]
  },
  {
   "cell_type": "markdown",
   "id": "e79fa029",
   "metadata": {},
   "source": [
    "### Desafio 03 - Aumento Salarial<br><p style=\"font-size:28px\">&#9989;</p>"
   ]
  },
  {
   "cell_type": "code",
   "execution_count": 68,
   "id": "486dd29b",
   "metadata": {},
   "outputs": [
    {
     "name": "stdout",
     "output_type": "stream",
     "text": [
      "1560\n",
      "Novo salario: 1560.00\n",
      "Reajuste ganho: 156.00\n",
      "Em percentual: 10 %\n"
     ]
    }
   ],
   "source": [
    "salario = int(input()) \n",
    "\n",
    "if (salario >= 0 and salario <= 600.00):\n",
    "  reajuste = salario * 17 / 100\n",
    "  salario = salario + reajuste\n",
    "  \n",
    "  print(f'Novo salario: {salario:.2f}\\nReajuste ganho: {reajuste:.2f}\\nEm percentual: 17 %')\n",
    "           \n",
    "elif (salario > 600.00 and salario <= 900.00):\n",
    "  reajuste = salario * 13 / 100\n",
    "  salario = salario + reajuste\n",
    "    \n",
    "  print(f'Novo salario: {salario:.2f}\\nReajuste ganho: {reajuste:.2f}\\nEm percentual: 13 %')\n",
    "\n",
    "elif (salario > 900.00 and salario <= 1500.00):\n",
    "  reajuste = salario * 12 / 100\n",
    "  salario = salario + reajuste\n",
    "  \n",
    "  print(f'Novo salario: {salario:.2f}znReajuste ganho: {reajuste:.2f}\\nEm percentual: 12 %')\n",
    "\n",
    "elif (salario > 1500 and salario <= 2000.00):\n",
    "  reajuste = salario * 10 / 100\n",
    "  Salario = salario + reajuste\n",
    "  \n",
    "  print(f'Novo salario: {salario:.2f}\\nReajuste ganho: {reajuste:.2f}\\nEm percentual: 10 %' )\n",
    "\n",
    "else: \n",
    "  reajuste = salario * 5 / 100\n",
    "  Salario = salario + reajuste\n",
    "  \n",
    "  print(f'Novo salario: {salario:.2f}\\nReajuste ganho: {reajuste:.2f}\\nEm percentual: 5 %')"
   ]
  }
 ],
 "metadata": {
  "kernelspec": {
   "display_name": "Python 3 (ipykernel)",
   "language": "python",
   "name": "python3"
  },
  "language_info": {
   "codemirror_mode": {
    "name": "ipython",
    "version": 3
   },
   "file_extension": ".py",
   "mimetype": "text/x-python",
   "name": "python",
   "nbconvert_exporter": "python",
   "pygments_lexer": "ipython3",
   "version": "3.9.12"
  }
 },
 "nbformat": 4,
 "nbformat_minor": 5
}
